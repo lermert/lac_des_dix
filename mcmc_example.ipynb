{
 "cells": [
  {
   "cell_type": "code",
   "execution_count": 1,
   "id": "7d0648c8-a10f-4fd8-b111-749c38189510",
   "metadata": {},
   "outputs": [],
   "source": [
    "# Imports\n",
    "# turn off automated parallelization:\n",
    "import os\n",
    "os.environ[\"OMP_NUM_THREADS\"] = \"1\"\n",
    "import numpy as np\n",
    "import matplotlib.pyplot as plt\n",
    "import multiprocessing\n",
    "import emcee\n",
    "import corner\n",
    "from math import pi, isnan"
   ]
  },
  {
   "cell_type": "code",
   "execution_count": 2,
   "id": "20d85a28-8bf5-4a49-96f7-a049ad1f61bb",
   "metadata": {},
   "outputs": [],
   "source": [
    "# all the function definitions here\n",
    "\n",
    "# here we test getting the parameters of a polynomial\n",
    "def model(params, indep):\n",
    "    a, b, c, d = params\n",
    "    x = indep\n",
    "\n",
    "    return(a * x**3 + b * x**2 + c * x + d)\n",
    "\n",
    "# uniform PRIOR for emcee\n",
    "def uniform_prior_for_emcee(params, bounds):\n",
    "    for i, p in enumerate(params):\n",
    "        if p < bounds[i][0]:\n",
    "            return(-np.inf)\n",
    "        if p > bounds[i][1]:\n",
    "            return(-np.inf)\n",
    "    return(0.0)\n",
    "\n",
    "# neg. log. LIKELIHOOD for emcee\n",
    "def log_likelihood_for_emcee(params, ind_vars, data, data_err=None, func=lambda x: x):\n",
    "    ll = 0.0\n",
    "\n",
    "        \n",
    "    # get the synthetics for these parameters\n",
    "    synth = function(params, *ind_vars)\n",
    "    \n",
    "    # data could be several dimensions\n",
    "    data = np.array(data)\n",
    "    if np.ndim(data) == 1:\n",
    "        data = np.array(data, ndmin=2)\n",
    "        if data_err is None:\n",
    "            data_err = np.ones(data.shape)\n",
    "        else:\n",
    "            data_err = np.array(data_err, ndmin=2)\n",
    "\n",
    "    for ixd, d in enumerate(data):\n",
    "\n",
    "        sigma2 = data_err[ixd] ** 2\n",
    "        res = synth - d\n",
    "        # print(np.abs(res).max())\n",
    "        ll += -0.5 * np.sum(res ** 2 / sigma2) - np.sum(np.log(np.sqrt(2. * pi * sigma2)))\n",
    "\n",
    "    return ll\n",
    "\n",
    "\n",
    "# neg. log. probability for emcee\n",
    "def log_probability_for_emcee(params, ind_vars, bounds, data, cov, func):\n",
    "\n",
    "    prior = uniform_prior_for_emcee(params, bounds)\n",
    "    llh = log_likelihood_for_emcee(params, ind_vars, data, cov, func)\n",
    "    #print(\"Prior, \", prior)\n",
    "    #print(\"loglikelihood, \", llh)\n",
    "    if not np.isfinite(prior):\n",
    "        return(-np.inf)\n",
    "    else:\n",
    "        return(llh + prior)\n",
    "\n",
    "\n",
    "\n",
    "\n",
    "# Fixed model parameters and starting values"
   ]
  },
  {
   "cell_type": "code",
   "execution_count": 38,
   "id": "50c217ad-2ef5-4106-abe5-0fd14111af16",
   "metadata": {},
   "outputs": [
    {
     "data": {
      "image/png": "[encoded data removed]",
      "text/plain": [
       "<Figure size 640x480 with 1 Axes>"
      ]
     },
     "metadata": {},
     "output_type": "display_data"
    }
   ],
   "source": [
    "# inputs for the synthetic test :)\n",
    "solution = [0.05, 0.8, 0.4, 0.0]\n",
    "x = np.linspace(-5, 5, 100)\n",
    "true = solution[0] * x**3 + solution[1] * x**2 + solution[2] * x + solution[3]\n",
    "noise_amplitude = 0.5\n",
    "noisy = true + np.random.randn(100) * noise_amplitude\n",
    "plt.plot(x, true)\n",
    "plt.plot(x, noisy)\n",
    "output_dir = \"synthetic_test_mcmc\"\n",
    "\n",
    "\n",
    "# function to model:\n",
    "function = model\n",
    "\n",
    "# initial guess:\n",
    "x0 = [0, 0, 0, 0]\n",
    "\n",
    "# diagonal of data covariance matrix:\n",
    "error = np.ones(len(x)) * np.sqrt(noise_amplitude)\n",
    "\n",
    "# for each parameter, specify lower and upper bound\n",
    "bounds = [[-2, 2], [-2, 2], [-2, 2], [-1, 1]]\n",
    "# chains to run\n",
    "# INPUT\n",
    "n_initializations = 12\n",
    "n_multiprocess = 4\n",
    "n_iterations = 10_000\n",
    "n_burnin = 3000\n",
    "max_iterations = 10_000\n",
    "\n",
    "\n",
    "# independent variables:\n",
    "independent_variables = [x]\n"
   ]
  },
  {
   "cell_type": "code",
   "execution_count": 39,
   "id": "f3ea5921-7eb9-4f6f-9a7b-be0f479c385c",
   "metadata": {},
   "outputs": [
    {
     "name": "stdout",
     "output_type": "stream",
     "text": [
      "initial values:  [0, 0, 0, 0]\n"
     ]
    },
    {
     "name": "stderr",
     "output_type": "stream",
     "text": [
      "100%|████████████████████████████████████| 10000/10000 [00:43<00:00, 228.12it/s]\n"
     ]
    },
    {
     "name": "stdout",
     "output_type": "stream",
     "text": [
      "[84.58265082 64.9060121  77.90917598 63.6631418 ]\n",
      "Tau could be estimated, tau:  84.58265081501112\n",
      "(1992, 5)\n"
     ]
    }
   ],
   "source": [
    "# MCMC inversion to improve the fit\n",
    "if not os.path.exists(output_dir):\n",
    "    os.makedirs(output_dir)\n",
    "\n",
    "\n",
    "\n",
    "# log_probability_for_emcee(params, ind_vars, bounds, data, cov)\n",
    "# get the initial position from the max. likeligood model and perturb by small random nrs\n",
    "print(\"initial values: \", x0)\n",
    "\n",
    "# run the inversion\n",
    "perturb_initial_values = np.random.randn(n_initializations, len(x0)) + 1.0\n",
    "position = np.array([x0]*n_initializations) * perturb_initial_values + 0.01 * (perturb_initial_values - 1.)\n",
    "\n",
    "nwalkers, ndim = (n_initializations, len(x0))\n",
    "\n",
    "with multiprocessing.Pool(n_multiprocess) as pool:\n",
    "    # Initialize the sampler\n",
    "    # here you can edit the types of moves etc.\n",
    "    ind_vars = independent_variables\n",
    "    cov = error\n",
    "    data = noisy\n",
    "    sampler = emcee.EnsembleSampler(nwalkers, ndim, log_probability_for_emcee,\n",
    "                                    moves=[(emcee.moves.StretchMove(a=2.0), 0.5),\n",
    "                                            (emcee.moves.DESnookerMove(), 0.5)],\n",
    "                                    args=(ind_vars, bounds, data, cov, function),\n",
    "                                    pool=pool)\n",
    "    iterations_performed = 0\n",
    "    have_tau = False\n",
    "    while True:\n",
    "        try:\n",
    "            position = sampler.run_mcmc(position, n_iterations, progress=True, skip_initial_state_check=True)\n",
    "            iterations_performed += n_iterations\n",
    "        except ValueError:  # badly conditioned starting point\n",
    "            position = sampler.get_last_sample()\n",
    "            position.coords += np.random.randn(n_initializations, len(init_pos)) *\\\n",
    "                               np.array(init_perturbation[0: len(init_pos)])\n",
    "        \n",
    "        tau = sampler.get_autocorr_time(discard=n_burnin)\n",
    "        print(tau)\n",
    "        if not np.any(np.isnan(tau)):\n",
    "            foname = output_dir + \"/tau.txt\"\n",
    "            with open(foname, \"w\") as fh:\n",
    "                for ttau in tau:\n",
    "                    fh.write(f\"{ttau}\")\n",
    "            thin = int(np.max(tau)) // 2\n",
    "            print(\"Tau could be estimated, tau: \", np.max(tau))\n",
    "            have_tau = True\n",
    "            break\n",
    "        else:\n",
    "            if iterations_performed < max_iterations:\n",
    "                print(\"Apparently no convergence yet, adding another {} samples.\".format(n_iterations))\n",
    "            else:\n",
    "                print(\"No convergence despite performing maximum number of iterations. Giving up.\")\n",
    "                break\n",
    "\n",
    "if not have_tau:\n",
    "    thin = 2\n",
    "    #continue\n",
    "\n",
    "\n",
    "# get and save the samples\n",
    "all_samples_temp = sampler.get_chain(discard=n_burnin)\n",
    "# save the \"clean\" ensemble: Post burn-in, flat, decimated by 1/2 * autocorrelation time.\n",
    "flat_samples = sampler.get_chain(flat=True, discard=n_burnin, thin=thin)\n",
    "log_prob_samples = sampler.get_log_prob(discard=n_burnin, flat=True, thin=thin)\n",
    "\n",
    "\n",
    "# Plot the chains\n",
    "fig, axes = plt.subplots(ndim, figsize=(10, 2*ndim), sharex=True)\n",
    "labels = [\"a\",  \"b\",  \"c\", \"d\", \"e\",]\n",
    "for ixparam in range(ndim):\n",
    "    ax = axes[ixparam]\n",
    "    ax.plot(all_samples_temp[:, :, ixparam], \"k\", alpha=0.3)\n",
    "    ax.set_xlim(0, len(all_samples_temp))\n",
    "    ax.set_ylabel(labels[ixparam])\n",
    "    ax.yaxis.set_label_coords(-0.1, 0.5)\n",
    "axes[-1].set_xlabel(\"Step number\")\n",
    "foname = (output_dir + \"/MCMC_chains_{}{}.png\".format(\"test_inversion\", {True: \"\", False: \"_noconvergence\"}[have_tau]))\n",
    "fig.savefig(foname)\n",
    "plt.close()\n",
    "\n",
    "\n",
    "# Create a corner plot and save\n",
    "flat_samples = sampler.get_chain(flat=True, discard=n_burnin, thin=thin)\n",
    "log_prob_samples = sampler.get_log_prob(discard=n_burnin, flat=True, thin=thin)\n",
    "if flat_samples.shape[0] > 50:\n",
    "    samples_probs = np.concatenate((flat_samples, log_prob_samples[:, None]), axis=1)\n",
    "    print(samples_probs.shape)\n",
    "\n",
    "    labels += [\"log prob\"]\n",
    "    fig = corner.corner(\n",
    "        samples_probs, labels=labels\n",
    "    );\n",
    "    foname = (output_dir + \"/MCMC_{}{}.png\".format(\"test_inversion\", {True: \"\", False: \"_noconvergence\"}[have_tau]))\n",
    "    fig.savefig(foname)\n",
    "    plt.close()"
   ]
  },
  {
   "cell_type": "code",
   "execution_count": 40,
   "id": "98963f48-5e6f-4c29-b770-c1d7b0d73792",
   "metadata": {},
   "outputs": [
    {
     "data": {
      "text/plain": [
       "[<matplotlib.lines.Line2D at 0x7d8d81ada8f0>]"
      ]
     },
     "execution_count": 40,
     "metadata": {},
     "output_type": "execute_result"
    },
    {
     "data": {
      "image/png": "[encoded data removed]",
      "text/plain": [
       "<Figure size 640x480 with 1 Axes>"
      ]
     },
     "metadata": {},
     "output_type": "display_data"
    }
   ],
   "source": [
    "\n",
    "synth = function(np.median(flat_samples, axis=0), x)\n",
    "\n",
    "plt.plot(x, noisy, \"k\")\n",
    "plt.plot(x, synth, \"r--\")\n"
   ]
  },
  {
   "cell_type": "code",
   "execution_count": 41,
   "id": "e53cc63c-7544-4c42-8d9f-c5686342dd50",
   "metadata": {},
   "outputs": [
    {
     "name": "stdout",
     "output_type": "stream",
     "text": [
      "[0.04736441 0.79286523 0.42035617 0.00773237]\n",
      "[0.0472851  0.79294867 0.42169802 0.00977528]\n",
      "[0.00336276 0.00838253 0.05635047 0.09791642]\n",
      "[0.05, 0.8, 0.4, 0.0]\n"
     ]
    }
   ],
   "source": [
    "print(np.median(flat_samples, axis=0))\n",
    "print(np.mean(flat_samples, axis=0))\n",
    "print(np.std(flat_samples, axis=0))\n",
    "print(solution)"
   ]
  },
  {
   "cell_type": "code",
   "execution_count": null,
   "id": "157f2768-5867-4cbb-a942-9d3648d8a283",
   "metadata": {},
   "outputs": [],
   "source": []
  }
 ],
 "metadata": {
  "kernelspec": {
   "display_name": "Python 3 (ipykernel)",
   "language": "python",
   "name": "python3"
  },
  "language_info": {
   "codemirror_mode": {
    "name": "ipython",
    "version": 3
   },
   "file_extension": ".py",
   "mimetype": "text/x-python",
   "name": "python",
   "nbconvert_exporter": "python",
   "pygments_lexer": "ipython3",
   "version": "3.10.9"
  }
 },
 "nbformat": 4,
 "nbformat_minor": 5
}
